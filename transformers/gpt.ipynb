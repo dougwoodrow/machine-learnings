{
 "cells": [
  {
   "cell_type": "markdown",
   "source": [
    "Install pre-reqs"
   ],
   "metadata": {
    "collapsed": false
   }
  },
  {
   "cell_type": "code",
   "execution_count": 1,
   "outputs": [
    {
     "name": "stdout",
     "output_type": "stream",
     "text": [
      "Requirement already satisfied: transformers in /Users/dougwoodrow/Developer/Personal/ml-learning/venv/lib/python3.8/site-packages (4.28.1)\r\n",
      "Requirement already satisfied: filelock in /Users/dougwoodrow/Developer/Personal/ml-learning/venv/lib/python3.8/site-packages (from transformers) (3.12.0)\r\n",
      "Requirement already satisfied: huggingface-hub<1.0,>=0.11.0 in /Users/dougwoodrow/Developer/Personal/ml-learning/venv/lib/python3.8/site-packages (from transformers) (0.14.1)\r\n",
      "Requirement already satisfied: numpy>=1.17 in /Users/dougwoodrow/Developer/Personal/ml-learning/venv/lib/python3.8/site-packages (from transformers) (1.23.5)\r\n",
      "Requirement already satisfied: packaging>=20.0 in /Users/dougwoodrow/Developer/Personal/ml-learning/venv/lib/python3.8/site-packages (from transformers) (23.1)\r\n",
      "Requirement already satisfied: pyyaml>=5.1 in /Users/dougwoodrow/Developer/Personal/ml-learning/venv/lib/python3.8/site-packages (from transformers) (6.0)\r\n",
      "Requirement already satisfied: regex!=2019.12.17 in /Users/dougwoodrow/Developer/Personal/ml-learning/venv/lib/python3.8/site-packages (from transformers) (2023.5.5)\r\n",
      "Requirement already satisfied: requests in /Users/dougwoodrow/Developer/Personal/ml-learning/venv/lib/python3.8/site-packages (from transformers) (2.30.0)\r\n",
      "Requirement already satisfied: tokenizers!=0.11.3,<0.14,>=0.11.1 in /Users/dougwoodrow/Developer/Personal/ml-learning/venv/lib/python3.8/site-packages (from transformers) (0.13.3)\r\n",
      "Requirement already satisfied: tqdm>=4.27 in /Users/dougwoodrow/Developer/Personal/ml-learning/venv/lib/python3.8/site-packages (from transformers) (4.65.0)\r\n",
      "Requirement already satisfied: fsspec in /Users/dougwoodrow/Developer/Personal/ml-learning/venv/lib/python3.8/site-packages (from huggingface-hub<1.0,>=0.11.0->transformers) (2023.4.0)\r\n",
      "Requirement already satisfied: typing-extensions>=3.7.4.3 in /Users/dougwoodrow/Developer/Personal/ml-learning/venv/lib/python3.8/site-packages (from huggingface-hub<1.0,>=0.11.0->transformers) (4.5.0)\r\n",
      "Requirement already satisfied: charset-normalizer<4,>=2 in /Users/dougwoodrow/Developer/Personal/ml-learning/venv/lib/python3.8/site-packages (from requests->transformers) (3.1.0)\r\n",
      "Requirement already satisfied: idna<4,>=2.5 in /Users/dougwoodrow/Developer/Personal/ml-learning/venv/lib/python3.8/site-packages (from requests->transformers) (3.4)\r\n",
      "Requirement already satisfied: urllib3<3,>=1.21.1 in /Users/dougwoodrow/Developer/Personal/ml-learning/venv/lib/python3.8/site-packages (from requests->transformers) (2.0.2)\r\n",
      "Requirement already satisfied: certifi>=2017.4.17 in /Users/dougwoodrow/Developer/Personal/ml-learning/venv/lib/python3.8/site-packages (from requests->transformers) (2022.12.7)\r\n",
      "Note: you may need to restart the kernel to use updated packages.\n"
     ]
    }
   ],
   "source": [
    "pip install transformers"
   ],
   "metadata": {
    "collapsed": false,
    "ExecuteTime": {
     "start_time": "2023-05-06T21:12:53.946426Z",
     "end_time": "2023-05-06T21:12:56.734920Z"
    }
   }
  },
  {
   "cell_type": "markdown",
   "source": [
    "Let's create something like ChatGPT"
   ],
   "metadata": {
    "collapsed": false
   }
  },
  {
   "cell_type": "code",
   "execution_count": 2,
   "metadata": {
    "collapsed": true,
    "ExecuteTime": {
     "start_time": "2023-05-06T21:13:26.005789Z",
     "end_time": "2023-05-06T21:13:43.733084Z"
    }
   },
   "outputs": [
    {
     "data": {
      "text/plain": "Downloading (…)olve/main/vocab.json:   0%|          | 0.00/1.04M [00:00<?, ?B/s]",
      "application/vnd.jupyter.widget-view+json": {
       "version_major": 2,
       "version_minor": 0,
       "model_id": "93219c434d904a98a89b2d712ff2c726"
      }
     },
     "metadata": {},
     "output_type": "display_data"
    },
    {
     "data": {
      "text/plain": "Downloading (…)olve/main/merges.txt:   0%|          | 0.00/456k [00:00<?, ?B/s]",
      "application/vnd.jupyter.widget-view+json": {
       "version_major": 2,
       "version_minor": 0,
       "model_id": "b67d6cde34f14a6e88ff50cb015ba7f3"
      }
     },
     "metadata": {},
     "output_type": "display_data"
    },
    {
     "data": {
      "text/plain": "Downloading (…)lve/main/config.json:   0%|          | 0.00/665 [00:00<?, ?B/s]",
      "application/vnd.jupyter.widget-view+json": {
       "version_major": 2,
       "version_minor": 0,
       "model_id": "5643829482074db6af3543a0b8b85f6d"
      }
     },
     "metadata": {},
     "output_type": "display_data"
    },
    {
     "data": {
      "text/plain": "Downloading pytorch_model.bin:   0%|          | 0.00/548M [00:00<?, ?B/s]",
      "application/vnd.jupyter.widget-view+json": {
       "version_major": 2,
       "version_minor": 0,
       "model_id": "1ae9d759230043e9aca8869b2f0d96c4"
      }
     },
     "metadata": {},
     "output_type": "display_data"
    },
    {
     "data": {
      "text/plain": "Downloading (…)neration_config.json:   0%|          | 0.00/124 [00:00<?, ?B/s]",
      "application/vnd.jupyter.widget-view+json": {
       "version_major": 2,
       "version_minor": 0,
       "model_id": "edc5204aca5c424dbb7a726c1719a68f"
      }
     },
     "metadata": {},
     "output_type": "display_data"
    }
   ],
   "source": [
    "from transformers import GPT2LMHeadModel, GPT2Tokenizer\n",
    "\n",
    "model_name = 'gpt2'\n",
    "tokenizer = GPT2Tokenizer.from_pretrained(model_name)\n",
    "model = GPT2LMHeadModel.from_pretrained(model_name)"
   ]
  },
  {
   "cell_type": "markdown",
   "source": [
    "Now a function that can generate responses"
   ],
   "metadata": {
    "collapsed": false
   }
  },
  {
   "cell_type": "code",
   "execution_count": 12,
   "outputs": [],
   "source": [
    "import torch\n",
    "\n",
    "def generate_response(prompt, max_length=100, num_return_sequences=1):\n",
    "    input_ids = tokenizer.encode(prompt, return_tensors=\"pt\")\n",
    "\n",
    "    with torch.no_grad():\n",
    "        output = model.generate(\n",
    "            input_ids,\n",
    "            max_length=max_length,\n",
    "            num_return_sequences=num_return_sequences,\n",
    "            no_repeat_ngram_size=2,\n",
    "            do_sample=True,\n",
    "            temperature=0.7,\n",
    "        )\n",
    "\n",
    "    response = tokenizer.decode(output[0], skip_special_tokens=True)\n",
    "    return response"
   ],
   "metadata": {
    "collapsed": false,
    "ExecuteTime": {
     "start_time": "2023-05-06T21:24:11.095986Z",
     "end_time": "2023-05-06T21:24:11.109698Z"
    }
   }
  },
  {
   "cell_type": "markdown",
   "source": [
    "Let's try it out"
   ],
   "metadata": {
    "collapsed": false
   }
  },
  {
   "cell_type": "code",
   "execution_count": 13,
   "outputs": [
    {
     "name": "stderr",
     "output_type": "stream",
     "text": [
      "The attention mask and the pad token id were not set. As a consequence, you may observe unexpected behavior. Please pass your input's `attention_mask` to obtain reliable results.\n",
      "Setting `pad_token_id` to `eos_token_id`:50256 for open-end generation.\n"
     ]
    },
    {
     "name": "stdout",
     "output_type": "stream",
     "text": [
      "What are some good names for a dog?\n",
      "\n",
      "So I asked my friend, \"What is a good name for your dog?\" She said, 'A good dog is good for you guys. If you can't find a name, maybe you should get a trainer.'\n",
      "'I thought it was a nice name because it's just a cute name.' I was like, yes, definitely. I love my dog. Sometimes it just makes her happy.\n",
      ".@mikemichael_\n"
     ]
    }
   ],
   "source": [
    "user_input = \"What are some good names for a dog?\"\n",
    "response = generate_response(user_input)\n",
    "print(response)"
   ],
   "metadata": {
    "collapsed": false,
    "ExecuteTime": {
     "start_time": "2023-05-06T21:24:15.105264Z",
     "end_time": "2023-05-06T21:24:17.676074Z"
    }
   }
  }
 ],
 "metadata": {
  "kernelspec": {
   "display_name": "Python 3",
   "language": "python",
   "name": "python3"
  },
  "language_info": {
   "codemirror_mode": {
    "name": "ipython",
    "version": 2
   },
   "file_extension": ".py",
   "mimetype": "text/x-python",
   "name": "python",
   "nbconvert_exporter": "python",
   "pygments_lexer": "ipython2",
   "version": "2.7.6"
  }
 },
 "nbformat": 4,
 "nbformat_minor": 0
}
